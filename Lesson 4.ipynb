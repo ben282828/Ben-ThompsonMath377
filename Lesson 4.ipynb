{
 "cells": [
  {
   "cell_type": "markdown",
   "metadata": {},
   "source": [
    "# Lesson 4"
   ]
  },
  {
   "cell_type": "code",
   "execution_count": 8,
   "metadata": {},
   "outputs": [],
   "source": [
    "import numpy as np\n",
    "from datascience import *\n",
    "\n",
    "%matplotlib inline\n",
    "import matplotlib.pyplot as plots\n",
    "plots.style.use('fivethirtyeight')\n",
    "import warnings\n",
    "warnings.simplefilter(action=\"ignore\", category=FutureWarning)"
   ]
  },
  {
   "cell_type": "markdown",
   "metadata": {},
   "source": [
    "## 1)"
   ]
  },
  {
   "cell_type": "code",
   "execution_count": 18,
   "metadata": {},
   "outputs": [
    {
     "name": "stdout",
     "output_type": "stream",
     "text": [
      "I am Ben Thompson. I am 20 years old. I'm from Canby, OR!\n"
     ]
    }
   ],
   "source": [
    "#Create the following sentence by adding in these variables\n",
    "name= 'Ben Thompson'\n",
    "age= '20'\n",
    "hometown= 'Canby, OR'\n",
    "print (\"I am \" + name + \". I am \" + age + \" years old. I'm from \" + hometown + '!')"
   ]
  },
  {
   "cell_type": "code",
   "execution_count": 24,
   "metadata": {},
   "outputs": [
    {
     "name": "stdout",
     "output_type": "stream",
     "text": [
      "ben thompson\n"
     ]
    }
   ],
   "source": [
    "#Lower case my name\n",
    "lower_name=name.lower()\n",
    "print(lower_name)"
   ]
  },
  {
   "cell_type": "code",
   "execution_count": 27,
   "metadata": {},
   "outputs": [
    {
     "name": "stdout",
     "output_type": "stream",
     "text": [
      "Ben Thompson\n"
     ]
    }
   ],
   "source": [
    "#Make my name a proper noun\n",
    "upper_name=lower_name.title()\n",
    "print(upper_name)"
   ]
  },
  {
   "cell_type": "markdown",
   "metadata": {},
   "source": [
    "## 2)"
   ]
  },
  {
   "cell_type": "code",
   "execution_count": 38,
   "metadata": {},
   "outputs": [
    {
     "name": "stdout",
     "output_type": "stream",
     "text": [
      "He is Ben Thompson. He is 20 years old. He's from Canby, OR!\n"
     ]
    }
   ],
   "source": [
    "#replace I am with he is and I'm with he's or she's\n",
    "str=\"I am \" + name + \". I am \" + age + \" years old. I'm from \" + hometown + '!'\n",
    "str2=str.replace(\"I am\",\"He is\")\n",
    "str3=str2.replace(\"I'm\",\"He's\")\n",
    "print(str3)"
   ]
  },
  {
   "cell_type": "markdown",
   "metadata": {},
   "source": [
    "# 3)"
   ]
  },
  {
   "cell_type": "code",
   "execution_count": 45,
   "metadata": {},
   "outputs": [
    {
     "data": {
      "text/plain": [
       "False"
      ]
     },
     "execution_count": 45,
     "metadata": {},
     "output_type": "execute_result"
    }
   ],
   "source": [
    "#Return a boolean response indicating whether the length of the original sentence in #1 is greater than my age+40\n",
    "bool=len(str)>(int(age)+40)\n",
    "bool"
   ]
  }
 ],
 "metadata": {
  "kernelspec": {
   "display_name": "Python 3",
   "language": "python",
   "name": "python3"
  },
  "language_info": {
   "codemirror_mode": {
    "name": "ipython",
    "version": 3
   },
   "file_extension": ".py",
   "mimetype": "text/x-python",
   "name": "python",
   "nbconvert_exporter": "python",
   "pygments_lexer": "ipython3",
   "version": "3.6.5"
  }
 },
 "nbformat": 4,
 "nbformat_minor": 2
}
